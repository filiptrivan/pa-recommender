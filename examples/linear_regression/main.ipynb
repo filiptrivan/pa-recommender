{
 "cells": [
  {
   "cell_type": "code",
   "execution_count": 1,
   "metadata": {},
   "outputs": [],
   "source": [
    "import warnings\n",
    "warnings.simplefilter(action='ignore', category=FutureWarning)\n",
    "import sys\n",
    "import os\n",
    "sys.path.append(os.path.abspath(\"../..\"))  # Adds the project root to sys.path\n",
    "import numpy as np \n",
    "import math\n",
    "import tensorflow as tf\n",
    "\n",
    "from recommenders.datasets.linear_regression import *"
   ]
  },
  {
   "cell_type": "code",
   "execution_count": 2,
   "metadata": {},
   "outputs": [],
   "source": [
    "save_rating_values()"
   ]
  },
  {
   "cell_type": "code",
   "execution_count": 3,
   "metadata": {},
   "outputs": [
    {
     "name": "stdout",
     "output_type": "stream",
     "text": [
      "Y (7, 3) R (7, 3)\n",
      "X (7, 10)\n",
      "num_features 10\n",
      "num_products 7\n",
      "num_users 3\n"
     ]
    }
   ],
   "source": [
    "product_features, Y, R, num_features, num_products = get_data()"
   ]
  },
  {
   "cell_type": "code",
   "execution_count": null,
   "metadata": {},
   "outputs": [],
   "source": [
    "# my_ratings = np.zeros(num_products)\n",
    "\n",
    "# my_ratings[0] = 5 # Bosch, Burgija\n",
    "# my_ratings[1] = 1 # Bosch, Testera\n",
    "# my_ratings[2] = 1 # Bosch, Testera\n",
    "\n",
    "# # Add new user ratings to Y \n",
    "# Y = np.c_[my_ratings, Y]\n",
    "\n",
    "# # Add new user indicator matrix to R\n",
    "# R = np.c_[(my_ratings != 0).astype(int), R]\n",
    "\n",
    "# Normalize the Dataset\n"
   ]
  },
  {
   "cell_type": "code",
   "execution_count": 8,
   "metadata": {},
   "outputs": [
    {
     "name": "stdout",
     "output_type": "stream",
     "text": [
      "Day 1: 1.9025\n",
      "Day 2: 1.8097\n",
      "Day 3: 1.7214\n",
      "Day 4: 1.6375\n",
      "Day 5: 1.5576\n",
      "Day 6: 1.4816\n",
      "Day 7: 1.4094\n",
      "Day 8: 1.3406\n",
      "Day 9: 1.2753\n",
      "Day 10: 1.2131\n",
      "Day 11: 1.1539\n",
      "Day 12: 1.0976\n",
      "Day 13: 1.0441\n",
      "Day 14: 0.9932\n",
      "Day 15: 0.9447\n",
      "Day 16: 0.8987\n",
      "Day 17: 0.8548\n",
      "Day 18: 0.8131\n",
      "Day 19: 0.7735\n",
      "Day 20: 0.7358\n",
      "Day 21: 0.6999\n",
      "Day 22: 0.6657\n",
      "Day 23: 0.6333\n",
      "Day 24: 0.6024\n",
      "Day 25: 0.5730\n",
      "Day 26: 0.5451\n",
      "Day 27: 0.5185\n",
      "Day 28: 0.4932\n",
      "Day 29: 0.4691\n",
      "Day 30: 0.4463\n",
      "Day 31: 0.4245\n",
      "Day 32: 0.4038\n",
      "Day 33: 0.3841\n",
      "Day 34: 0.3654\n",
      "Day 35: 0.3475\n",
      "Day 36: 0.3306\n",
      "Day 37: 0.3145\n",
      "Day 38: 0.2991\n",
      "Day 39: 0.2845\n",
      "Day 40: 0.2707\n",
      "Day 41: 0.2575\n",
      "Day 42: 0.2449\n",
      "Day 43: 0.2330\n",
      "Day 44: 0.2216\n",
      "Day 45: 0.2108\n",
      "Day 46: 0.2005\n",
      "Day 47: 0.1907\n",
      "Day 48: 0.1814\n",
      "Day 49: 0.1726\n",
      "Day 50: 0.1642\n",
      "Day 51: 0.1562\n",
      "Day 52: 0.1485\n",
      "Day 53: 0.1413\n",
      "Day 54: 0.1344\n",
      "Day 55: 0.1279\n",
      "Day 56: 0.1216\n",
      "Day 57: 0.1157\n",
      "Day 58: 0.1100\n",
      "Day 59: 0.1047\n",
      "Day 60: 0.0996\n",
      "Day 61: 0.0947\n",
      "Day 62: 0.0901\n",
      "Day 63: 0.0857\n",
      "Day 64: 0.0815\n",
      "Day 65: 0.0775\n",
      "Day 66: 0.0738\n",
      "Day 67: 0.0702\n",
      "Day 68: 0.0667\n",
      "Day 69: 0.0635\n",
      "Day 70: 0.0604\n",
      "Day 71: 0.0574\n",
      "Day 72: 0.0546\n",
      "Day 73: 0.0520\n",
      "Day 74: 0.0494\n",
      "Day 75: 0.0470\n",
      "Day 76: 0.0447\n",
      "Day 77: 0.0426\n",
      "Day 78: 0.0405\n",
      "Day 79: 0.0385\n",
      "Day 80: 0.0366\n",
      "Day 81: 0.0348\n",
      "Day 82: 0.0331\n",
      "Day 83: 0.0315\n",
      "Day 84: 0.0300\n",
      "Day 85: 0.0285\n",
      "Day 86: 0.0271\n",
      "Day 87: 0.0258\n",
      "Day 88: 0.0246\n",
      "Day 89: 0.0234\n",
      "Day 90: 0.0222\n",
      "Day 91: 0.0211\n",
      "Day 92: 0.0201\n",
      "Day 93: 0.0191\n",
      "Day 94: 0.0182\n",
      "Day 95: 0.0173\n",
      "Day 96: 0.0165\n",
      "Day 97: 0.0157\n",
      "Day 98: 0.0149\n",
      "Day 99: 0.0142\n"
     ]
    }
   ],
   "source": [
    "test_recency_bonus(100, 20)"
   ]
  },
  {
   "cell_type": "code",
   "execution_count": 4,
   "metadata": {},
   "outputs": [],
   "source": [
    "num_users = Y.shape[1] # FT: It's mandatory because we could add one more user to the matrix\n",
    "\n",
    "X, W, b = initialize_tf_variables(product_features, num_features, num_users)"
   ]
  },
  {
   "cell_type": "code",
   "execution_count": 5,
   "metadata": {},
   "outputs": [
    {
     "name": "stdout",
     "output_type": "stream",
     "text": [
      "Training loss at iteration 0: 41.474\n",
      "Training loss at iteration 20: 4.509\n",
      "Training loss at iteration 40: 3.434\n",
      "Training loss at iteration 60: 3.281\n",
      "Training loss at iteration 80: 3.255\n",
      "Training loss at iteration 100: 3.251\n",
      "Training loss at iteration 120: 3.251\n",
      "Training loss at iteration 140: 3.251\n",
      "Training loss at iteration 160: 3.251\n",
      "Training loss at iteration 180: 3.251\n"
     ]
    },
    {
     "data": {
      "image/png": "[encoded data removed]",
      "text/plain": [
       "<Figure size 640x480 with 1 Axes>"
      ]
     },
     "metadata": {},
     "output_type": "display_data"
    }
   ],
   "source": [
    "Ynorm, Ymean = normalize_ratings(Y, R)\n",
    "calculate_parameters(X, W, b, Ynorm, R, iterations=200, lambda_=1, learning_rate=0.1)"
   ]
  },
  {
   "cell_type": "code",
   "execution_count": 6,
   "metadata": {},
   "outputs": [
    {
     "name": "stdout",
     "output_type": "stream",
     "text": [
      "RMSE score: 0.3075149027551882\n"
     ]
    }
   ],
   "source": [
    "product_names = load_csv_list('../../recommenders/datasets/pa/product_names.csv')\n",
    "\n",
    "# Make a prediction using trained weights and biases\n",
    "predictions_normalized = np.matmul(X.numpy(), np.transpose(W.numpy())) + b.numpy()\n",
    "\n",
    "#restore the mean\n",
    "predictions = predictions_normalized + Ymean\n",
    "\n",
    "rmse(Y, predictions, R)\n",
    "\n",
    "my_predictions = predictions[:,0]\n",
    "\n",
    "# sort predictions\n",
    "ix = tf.argsort(my_predictions, direction='DESCENDING')\n",
    "\n",
    "# for i in range(len(my_ratings)):\n",
    "#     # print(f'{my_predictions[i]:0.2f}')\n",
    "#     if my_ratings[i] > 0:\n",
    "#         print(f'Original {my_ratings[i]}, Predicted {my_predictions[i]:0.2f} for {product_names[i]}')"
   ]
  }
 ],
 "metadata": {
  "kernelspec": {
   "display_name": "Python 3",
   "language": "python",
   "name": "python3"
  },
  "language_info": {
   "codemirror_mode": {
    "name": "ipython",
    "version": 3
   },
   "file_extension": ".py",
   "mimetype": "text/x-python",
   "name": "python",
   "nbconvert_exporter": "python",
   "pygments_lexer": "ipython3",
   "version": "3.11.3"
  }
 },
 "nbformat": 4,
 "nbformat_minor": 2
}
