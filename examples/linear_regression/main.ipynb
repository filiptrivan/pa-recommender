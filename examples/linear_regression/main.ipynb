{
 "cells": [
  {
   "cell_type": "code",
   "execution_count": 5,
   "metadata": {},
   "outputs": [],
   "source": [
    "import warnings\n",
    "warnings.simplefilter(action='ignore', category=FutureWarning)\n",
    "import sys\n",
    "import os\n",
    "sys.path.append(os.path.abspath(\"../..\"))  # Adds the project root to sys.path\n",
    "import numpy as np \n",
    "import math\n",
    "import tensorflow as tf\n",
    "\n",
    "from recommenders.datasets.linear_regression import *"
   ]
  },
  {
   "cell_type": "code",
   "execution_count": 3,
   "metadata": {},
   "outputs": [
    {
     "name": "stdout",
     "output_type": "stream",
     "text": [
      "[47608, 52026, 54268, 55284]\n"
     ]
    }
   ],
   "source": [
    "save_interaction_values()"
   ]
  },
  {
   "cell_type": "code",
   "execution_count": 9,
   "metadata": {},
   "outputs": [
    {
     "name": "stdout",
     "output_type": "stream",
     "text": [
      "Y (117, 4) R (117, 4)\n",
      "num_products 117\n",
      "num_users 4\n"
     ]
    }
   ],
   "source": [
    "Y, R, num_products = get_data()"
   ]
  },
  {
   "cell_type": "code",
   "execution_count": 5,
   "metadata": {},
   "outputs": [],
   "source": [
    "# my_ratings = np.zeros(num_products)\n",
    "\n",
    "# my_ratings[0] = 5 # Bosch, Burgija\n",
    "# my_ratings[1] = 1 # Bosch, Testera\n",
    "# my_ratings[2] = 1 # Bosch, Testera\n",
    "\n",
    "# # Add new user ratings to Y \n",
    "# Y = np.c_[my_ratings, Y]\n",
    "\n",
    "# # Add new user indicator matrix to R\n",
    "# R = np.c_[(my_ratings != 0).astype(int), R]\n",
    "\n",
    "# Normalize the Dataset\n"
   ]
  },
  {
   "cell_type": "code",
   "execution_count": 4,
   "metadata": {},
   "outputs": [],
   "source": [
    "# test_recency_bonus(100, 20)"
   ]
  },
  {
   "cell_type": "code",
   "execution_count": 10,
   "metadata": {},
   "outputs": [],
   "source": [
    "num_users = Y.shape[1] # FT: It's mandatory because we could add one more user to the matrix\n",
    "\n",
    "X, W, b = initialize_tf_variables(num_users, num_products)"
   ]
  },
  {
   "cell_type": "code",
   "execution_count": 11,
   "metadata": {},
   "outputs": [
    {
     "name": "stdout",
     "output_type": "stream",
     "text": [
      "Training loss at iteration 0: 12299.324\n",
      "Training loss at iteration 20: 1454.358\n",
      "Training loss at iteration 40: 355.676\n",
      "Training loss at iteration 60: 115.395\n",
      "Training loss at iteration 80: 48.676\n",
      "Training loss at iteration 100: 25.268\n",
      "Training loss at iteration 120: 15.190\n",
      "Training loss at iteration 140: 10.106\n",
      "Training loss at iteration 160: 7.236\n",
      "Training loss at iteration 180: 5.497\n",
      "Training loss at iteration 200: 4.404\n",
      "Training loss at iteration 220: 3.708\n",
      "Training loss at iteration 240: 3.264\n",
      "Training loss at iteration 260: 2.982\n",
      "Training loss at iteration 280: 2.804\n",
      "Training loss at iteration 300: 2.692\n",
      "Training loss at iteration 320: 2.624\n",
      "Training loss at iteration 340: 2.582\n",
      "Training loss at iteration 360: 2.556\n",
      "Training loss at iteration 380: 2.542\n",
      "Training loss at iteration 400: 2.533\n",
      "Training loss at iteration 420: 2.528\n",
      "Training loss at iteration 440: 2.525\n",
      "Training loss at iteration 460: 2.524\n",
      "Training loss at iteration 480: 2.523\n",
      "Training loss at iteration 500: 2.523\n",
      "Training loss at iteration 520: 2.522\n",
      "Training loss at iteration 540: 2.522\n",
      "Training loss at iteration 560: 2.522\n",
      "Training loss at iteration 580: 2.522\n",
      "Training loss at iteration 600: 2.522\n",
      "Training loss at iteration 620: 2.522\n",
      "Training loss at iteration 640: 2.522\n",
      "Training loss at iteration 660: 2.522\n",
      "Training loss at iteration 680: 2.522\n"
     ]
    },
    {
     "data": {
      "image/png": "[encoded data removed]",
      "text/plain": [
       "<Figure size 640x480 with 1 Axes>"
      ]
     },
     "metadata": {},
     "output_type": "display_data"
    }
   ],
   "source": [
    "Ynorm, Ymean = normalize_ratings(Y, R)\n",
    "calculate_parameters(X, W, b, Ynorm, R, iterations=700, lambda_=1, learning_rate=0.1)"
   ]
  },
  {
   "cell_type": "code",
   "execution_count": null,
   "metadata": {},
   "outputs": [
    {
     "name": "stdout",
     "output_type": "stream",
     "text": [
      "RMSE score: 0.09287067115889582\n",
      "Predict: 4.74, Original: 4.74\n",
      "Predict: 5.02, Original: 5.02\n",
      "Predict: 4.52, Original: 4.52\n",
      "Predict: 4.53, Original: 4.53\n",
      "Predict: 4.52, Original: 4.52\n",
      "Predict: 4.52, Original: 4.52\n",
      "Predict: 4.74, Original: 4.74\n",
      "Predict: 4.74, Original: 4.74\n",
      "Predict: 4.53, Original: 4.53\n",
      "Predict: 4.52, Original: 4.52\n",
      "Predict: 4.52, Original: 4.52\n",
      "Predict: 7.05, Original: 7.05\n",
      "Predict: 5.11, Original: 5.11\n",
      "Predict: 4.55, Original: 4.55\n",
      "Predict: 4.55, Original: 4.55\n",
      "Predict: 4.55, Original: 4.55\n",
      "Predict: 4.52, Original: 4.52\n",
      "Predict: 5.57, Original: 5.57\n",
      "Predict: 4.52, Original: 4.52\n",
      "Predict: 4.53, Original: 4.53\n",
      "Predict: 4.74, Original: 4.74\n",
      "Predict: 4.53, Original: 4.53\n",
      "Predict: 4.53, Original: 4.53\n",
      "Predict: 5.65, Original: 5.65\n",
      "Predict: 5.65, Original: 5.65\n",
      "Predict: 4.74, Original: 4.74\n",
      "Predict: 4.55, Original: 4.55\n",
      "Predict: 4.50, Original: 4.50\n",
      "Predict: 4.78, Original: 4.78\n",
      "Predict: 4.50, Original: 4.50\n",
      "Predict: 5.57, Original: 5.57\n",
      "Predict: 5.05, Original: 5.05\n",
      "Predict: 4.71, Original: 4.71\n",
      "Predict: 5.57, Original: 5.57\n",
      "Predict: 5.57, Original: 5.57\n",
      "Predict: 4.55, Original: 4.55\n",
      "Predict: 4.71, Original: 4.71\n",
      "Predict: 4.78, Original: 4.78\n",
      "Predict: 4.78, Original: 4.78\n",
      "Predict: 5.16, Original: 5.16\n",
      "Predict: 5.16, Original: 5.16\n",
      "Predict: 5.16, Original: 5.16\n",
      "Predict: 4.78, Original: 4.78\n",
      "Predict: 4.78, Original: 4.78\n",
      "Predict: 5.22, Original: 5.22\n",
      "Predict: 4.58, Original: 4.58\n",
      "Predict: 4.58, Original: 4.58\n",
      "Predict: 4.58, Original: 4.58\n",
      "Predict: 4.58, Original: 4.58\n",
      "Predict: 4.82, Original: 4.82\n",
      "Predict: 5.05, Original: 5.05\n",
      "Predict: 4.58, Original: 4.58\n",
      "Predict: 4.58, Original: 4.58\n",
      "Predict: 4.58, Original: 4.58\n",
      "Predict: 4.82, Original: 4.82\n",
      "Predict: 4.58, Original: 4.58\n",
      "Predict: 4.58, Original: 4.58\n",
      "Predict: 4.82, Original: 4.82\n",
      "Predict: 4.82, Original: 4.82\n",
      "Predict: 4.43, Original: 4.43\n",
      "Predict: 4.86, Original: 4.86\n",
      "Predict: 5.35, Original: 5.35\n",
      "Predict: 5.35, Original: 5.35\n",
      "Predict: 4.43, Original: 4.43\n",
      "Predict: 4.43, Original: 4.43\n",
      "Predict: 6.86, Original: 6.86\n",
      "Predict: 4.43, Original: 4.43\n",
      "Predict: 4.43, Original: 4.43\n",
      "Predict: 4.43, Original: 4.43\n",
      "Predict: 5.42, Original: 5.42\n",
      "Predict: 4.95, Original: 4.95\n",
      "Predict: 5.42, Original: 5.42\n",
      "Predict: 4.95, Original: 4.95\n",
      "Predict: 4.95, Original: 4.95\n",
      "Predict: 4.95, Original: 4.95\n",
      "Predict: 4.47, Original: 4.47\n",
      "Predict: 4.96, Original: 4.96\n",
      "Predict: 4.95, Original: 4.95\n",
      "Predict: 4.48, Original: 4.48\n",
      "Predict: 5.42, Original: 5.42\n",
      "Predict: 5.42, Original: 5.42\n",
      "Predict: 5.42, Original: 5.42\n",
      "Predict: 4.48, Original: 4.48\n",
      "Predict: 4.48, Original: 4.48\n",
      "Predict: 4.96, Original: 4.96\n",
      "Predict: 4.67, Original: 4.67\n",
      "Predict: 4.67, Original: 4.67\n",
      "Predict: 4.95, Original: 4.95\n",
      "Predict: 5.42, Original: 5.42\n",
      "Predict: 4.48, Original: 4.48\n",
      "Predict: 4.67, Original: 4.67\n",
      "Predict: 4.96, Original: 4.96\n",
      "Predict: 4.62, Original: 4.62\n",
      "Predict: 4.67, Original: 4.67\n",
      "Predict: 4.68, Original: 4.68\n",
      "Predict: 4.95, Original: 4.95\n",
      "Predict: 4.95, Original: 4.95\n",
      "Predict: 4.68, Original: 4.68\n",
      "Predict: 4.67, Original: 4.67\n",
      "Predict: 4.67, Original: 4.67\n",
      "Predict: 4.68, Original: 4.68\n",
      "Predict: 4.48, Original: 4.48\n",
      "Predict: 4.67, Original: 4.67\n",
      "Predict: 4.67, Original: 4.67\n",
      "Predict: 4.68, Original: 4.68\n",
      "Predict: 4.48, Original: 4.48\n",
      "Predict: 5.00, Original: 5.00\n",
      "Predict: 7.64, Original: 7.64\n",
      "Predict: 4.71, Original: 4.71\n",
      "Predict: 4.50, Original: 4.50\n",
      "Predict: 7.41, Original: 7.41\n",
      "Predict: 7.41, Original: 7.41\n",
      "Predict: 4.71, Original: 4.71\n",
      "Predict: 4.71, Original: 4.71\n",
      "Predict: 4.50, Original: 4.50\n",
      "Predict: 4.71, Original: 4.71\n",
      "Predict: 4.67, Original: 4.67\n"
     ]
    }
   ],
   "source": [
    "# product_names = load_csv_list('../../recommenders/datasets/pa/product_names.csv')\n",
    "\n",
    "# Make a prediction using trained weights and biases\n",
    "predictions_normalized = np.matmul(X.numpy(), np.transpose(W.numpy())) + b.numpy()\n",
    "\n",
    "#restore the mean\n",
    "predictions = predictions_normalized + Ymean\n",
    "\n",
    "rmse(Y, predictions, R)\n",
    "\n",
    "my_predictions = predictions[:,0]\n",
    "\n",
    "# sort predictions\n",
    "ix = tf.argsort(my_predictions, direction='DESCENDING')\n",
    "\n",
    "for i in range(len(my_predictions)):\n",
    "    print(f'Predict: {my_predictions[i]:0.5f}, Original: {predictions[i,0]:0.5f}')\n",
    "    # if my_ratings[i] > 0:\n",
    "    #     print(f'Original {my_ratings[i]}, Predicted {my_predictions[i]:0.2f} for {product_names[i]}')"
   ]
  }
 ],
 "metadata": {
  "kernelspec": {
   "display_name": "Python 3",
   "language": "python",
   "name": "python3"
  },
  "language_info": {
   "codemirror_mode": {
    "name": "ipython",
    "version": 3
   },
   "file_extension": ".py",
   "mimetype": "text/x-python",
   "name": "python",
   "nbconvert_exporter": "python",
   "pygments_lexer": "ipython3",
   "version": "3.11.3"
  }
 },
 "nbformat": 4,
 "nbformat_minor": 2
}
