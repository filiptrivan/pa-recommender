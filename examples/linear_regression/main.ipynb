{
 "cells": [
  {
   "cell_type": "code",
   "execution_count": 1,
   "metadata": {},
   "outputs": [],
   "source": [
    "import warnings\n",
    "warnings.simplefilter(action='ignore', category=FutureWarning)\n",
    "import sys\n",
    "import os\n",
    "sys.path.append(os.path.abspath(\"../..\"))  # Adds the project root to sys.path\n",
    "import numpy as np \n",
    "import math\n",
    "import tensorflow as tf\n",
    "\n",
    "from recommenders.datasets.linear_regression import *"
   ]
  },
  {
   "cell_type": "code",
   "execution_count": 2,
   "metadata": {},
   "outputs": [
    {
     "name": "stdout",
     "output_type": "stream",
     "text": [
      "[47608, 52026, 54268, 55284]\n"
     ]
    }
   ],
   "source": [
    "save_interaction_values()"
   ]
  },
  {
   "cell_type": "code",
   "execution_count": 2,
   "metadata": {},
   "outputs": [
    {
     "name": "stdout",
     "output_type": "stream",
     "text": [
      "Y (117, 4) R (117, 4)\n",
      "num_products 117\n",
      "num_users 4\n"
     ]
    }
   ],
   "source": [
    "Y, R, num_products = get_data()"
   ]
  },
  {
   "cell_type": "code",
   "execution_count": 5,
   "metadata": {},
   "outputs": [],
   "source": [
    "# my_ratings = np.zeros(num_products)\n",
    "\n",
    "# my_ratings[0] = 5 # Bosch, Burgija\n",
    "# my_ratings[1] = 1 # Bosch, Testera\n",
    "# my_ratings[2] = 1 # Bosch, Testera\n",
    "\n",
    "# # Add new user ratings to Y \n",
    "# Y = np.c_[my_ratings, Y]\n",
    "\n",
    "# # Add new user indicator matrix to R\n",
    "# R = np.c_[(my_ratings != 0).astype(int), R]\n",
    "\n",
    "# Normalize the Dataset\n"
   ]
  },
  {
   "cell_type": "code",
   "execution_count": 4,
   "metadata": {},
   "outputs": [],
   "source": [
    "# test_recency_bonus(100, 20)"
   ]
  },
  {
   "cell_type": "code",
   "execution_count": null,
   "metadata": {},
   "outputs": [],
   "source": [
    "num_users = Y.shape[1] # FT: It's mandatory because we could add one more user to the matrix\n",
    "\n",
    "X, W, b = initialize_tf_variables(num_users, num_products)"
   ]
  },
  {
   "cell_type": "code",
   "execution_count": null,
   "metadata": {},
   "outputs": [
    {
     "name": "stdout",
     "output_type": "stream",
     "text": [
      "Training loss at iteration 0: 12303.99286180866\n",
      "Training loss at iteration 20: 1454.4401290083763\n",
      "Training loss at iteration 40: 355.2765502446987\n",
      "Training loss at iteration 60: 115.10076243097946\n",
      "Training loss at iteration 80: 48.277222590046826\n",
      "Training loss at iteration 100: 24.76577887005789\n",
      "Training loss at iteration 120: 14.564222532701637\n",
      "Training loss at iteration 140: 9.338472121684006\n",
      "Training loss at iteration 160: 6.305307860320608\n",
      "Training loss at iteration 180: 4.387843064392234\n",
      "Training loss at iteration 200: 3.1131403570364724\n",
      "Training loss at iteration 220: 2.2456665736960972\n",
      "Training loss at iteration 240: 1.651341865831542\n",
      "Training loss at iteration 260: 1.2447987704284673\n",
      "Training loss at iteration 280: 0.9679730730779669\n",
      "Training loss at iteration 300: 0.7803293809941774\n",
      "Training loss at iteration 320: 0.6535240792737004\n",
      "Training loss at iteration 340: 0.567917913854395\n",
      "Training loss at iteration 360: 0.510050977406359\n",
      "Training loss at iteration 380: 0.47078440621616396\n",
      "Training loss at iteration 400: 0.44396084806626795\n",
      "Training loss at iteration 420: 0.42545919527683873\n",
      "Training loss at iteration 440: 0.41253642997557216\n",
      "Training loss at iteration 460: 0.4033738632083459\n",
      "Training loss at iteration 480: 0.3967675028007053\n",
      "Training loss at iteration 500: 0.39191919790364294\n",
      "Training loss at iteration 520: 0.3882974040783883\n",
      "Training loss at iteration 540: 0.38554533584074263\n",
      "Training loss at iteration 560: 0.3834208804990439\n",
      "Training loss at iteration 580: 0.381757501977183\n",
      "Training loss at iteration 600: 0.38043885591056625\n",
      "Training loss at iteration 620: 0.3793822853859227\n",
      "Training loss at iteration 640: 0.3785280394729136\n",
      "Training loss at iteration 660: 0.3778321741673128\n",
      "Training loss at iteration 680: 0.3772618279023894\n"
     ]
    },
    {
     "data": {
      "image/png": "[encoded data removed]",
      "text/plain": [
       "<Figure size 640x480 with 1 Axes>"
      ]
     },
     "metadata": {},
     "output_type": "display_data"
    }
   ],
   "source": [
    "Ynorm, Ymean = normalize_ratings(Y, R) # FT: Even if it's implicit feedback recommender, some users generate significantly more interactions than others.\n",
    "calculate_parameters(X, W, b, Ynorm, R, iterations=700, lambda_=1, learning_rate=0.1)"
   ]
  },
  {
   "cell_type": "code",
   "execution_count": null,
   "metadata": {},
   "outputs": [
    {
     "name": "stdout",
     "output_type": "stream",
     "text": [
      "RMSE score: 0.07748613276423218\n",
      "Top 10 predictions: [1.01442776 1.01440774 0.97233606 0.78913829 0.78913706 0.7888774\n",
      " 0.75091111 0.75091079 0.75091033 0.75088427]\n",
      "Indices of top 10 predictions: [111 110 107  24  23  11  33  30  34  17]\n"
     ]
    }
   ],
   "source": [
    "# product_names = load_csv_list('../../recommenders/datasets/pa/product_names.csv')\n",
    "\n",
    "# Make a prediction using trained weights and biases\n",
    "predictions_normalized = np.matmul(X.numpy(), np.transpose(W.numpy())) + b.numpy()\n",
    "\n",
    "#restore the mean\n",
    "predictions = predictions_normalized + Ymean\n",
    "\n",
    "rmse(Y, predictions, R)\n",
    "\n",
    "my_predictions = predictions[:,0]\n",
    "\n",
    "# sort predictions\n",
    "ix = tf.argsort(my_predictions, direction='DESCENDING')\n",
    "\n",
    "# Get the top 10 indices\n",
    "top_10_ix = ix[:10]\n",
    "\n",
    "# Get the top 10 values\n",
    "top_10_predictions = tf.gather(my_predictions, top_10_ix)\n",
    "\n",
    "# Print results\n",
    "print(\"Top 10 predictions:\", top_10_predictions.numpy())\n",
    "print(\"Indices of top 10 predictions:\", top_10_ix.numpy())\n",
    "\n",
    "# for i in range(len(my_predictions)):\n",
    "    # print(f'Predict: {my_predictions[i]:0.5f}, Original: {Y[i,0]:0.5f}')\n",
    "    # if my_ratings[i] > 0:\n",
    "    #     print(f'Original {my_ratings[i]}, Predicted {my_predictions[i]:0.2f} for {product_names[i]}')\n",
    "\n"
   ]
  },
  {
   "cell_type": "code",
   "execution_count": 4,
   "metadata": {},
   "outputs": [
    {
     "name": "stdout",
     "output_type": "stream",
     "text": [
      "Day 1: 0.0951\n",
      "Day 2: 0.0905\n",
      "Day 3: 0.0861\n",
      "Day 4: 0.0819\n",
      "Day 5: 0.0779\n",
      "Day 6: 0.0741\n",
      "Day 7: 0.0705\n",
      "Day 8: 0.0670\n",
      "Day 9: 0.0638\n",
      "Day 10: 0.0607\n",
      "Day 11: 0.0577\n",
      "Day 12: 0.0549\n",
      "Day 13: 0.0522\n",
      "Day 14: 0.0497\n",
      "Day 15: 0.0472\n",
      "Day 16: 0.0449\n",
      "Day 17: 0.0427\n",
      "Day 18: 0.0407\n",
      "Day 19: 0.0387\n",
      "Day 20: 0.0368\n",
      "Day 21: 0.0350\n",
      "Day 22: 0.0333\n",
      "Day 23: 0.0317\n",
      "Day 24: 0.0301\n",
      "Day 25: 0.0287\n",
      "Day 26: 0.0273\n",
      "Day 27: 0.0259\n",
      "Day 28: 0.0247\n",
      "Day 29: 0.0235\n",
      "Day 30: 0.0223\n",
      "Day 31: 0.0212\n",
      "Day 32: 0.0202\n",
      "Day 33: 0.0192\n",
      "Day 34: 0.0183\n",
      "Day 35: 0.0174\n",
      "Day 36: 0.0165\n",
      "Day 37: 0.0157\n",
      "Day 38: 0.0150\n",
      "Day 39: 0.0142\n",
      "Day 40: 0.0135\n",
      "Day 41: 0.0129\n",
      "Day 42: 0.0122\n",
      "Day 43: 0.0116\n",
      "Day 44: 0.0111\n",
      "Day 45: 0.0105\n",
      "Day 46: 0.0100\n",
      "Day 47: 0.0095\n",
      "Day 48: 0.0091\n",
      "Day 49: 0.0086\n"
     ]
    }
   ],
   "source": [
    "test_recency_bonus(50, 0.1, 20)"
   ]
  },
  {
   "cell_type": "code",
   "execution_count": 2,
   "metadata": {},
   "outputs": [
    {
     "data": {
      "text/plain": [
       "0.1542064049718821"
      ]
     },
     "execution_count": 2,
     "metadata": {},
     "output_type": "execute_result"
    }
   ],
   "source": [
    "get_multiple_interaction_bonus(2, 0.2)"
   ]
  },
  {
   "cell_type": "code",
   "execution_count": 6,
   "metadata": {},
   "outputs": [
    {
     "data": {
      "text/plain": [
       "0.975609756097561"
      ]
     },
     "execution_count": 6,
     "metadata": {},
     "output_type": "execute_result"
    }
   ],
   "source": [
    "get_multiple_interaction_bonus(3, 5)"
   ]
  }
 ],
 "metadata": {
  "kernelspec": {
   "display_name": "Python 3",
   "language": "python",
   "name": "python3"
  },
  "language_info": {
   "codemirror_mode": {
    "name": "ipython",
    "version": 3
   },
   "file_extension": ".py",
   "mimetype": "text/x-python",
   "name": "python",
   "nbconvert_exporter": "python",
   "pygments_lexer": "ipython3",
   "version": "3.11.3"
  }
 },
 "nbformat": 4,
 "nbformat_minor": 2
}
