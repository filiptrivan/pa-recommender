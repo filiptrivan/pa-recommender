{
 "cells": [
  {
   "cell_type": "code",
   "execution_count": 1,
   "metadata": {},
   "outputs": [],
   "source": [
    "import warnings\n",
    "warnings.simplefilter(action='ignore', category=FutureWarning)\n",
    "import sys\n",
    "import os\n",
    "sys.path.append(os.path.abspath(\"../..\"))  # Adds the project root to sys.path\n",
    "import csv\n",
    "import numpy as np \n",
    "import tensorflow as tf\n",
    "from tensorflow import keras\n",
    "\n",
    "from recommenders.datasets.linear_regression import save_rating_values\n",
    "from recommenders.datasets.linear_regression import get_data\n",
    "from recommenders.datasets.linear_regression import cofi_cost_func_v\n",
    "from recommenders.datasets.linear_regression import normalize_ratings\n",
    "from recommenders.datasets.linear_regression import load_csv_np\n",
    "from recommenders.datasets.linear_regression import load_csv_list"
   ]
  },
  {
   "cell_type": "code",
   "execution_count": 9,
   "metadata": {},
   "outputs": [],
   "source": [
    "save_rating_values()"
   ]
  },
  {
   "cell_type": "code",
   "execution_count": 2,
   "metadata": {},
   "outputs": [
    {
     "name": "stdout",
     "output_type": "stream",
     "text": [
      "Y (7, 3) R (7, 3)\n",
      "X (7, 6)\n",
      "num_features 6\n",
      "num_products 7\n",
      "num_users 3\n"
     ]
    }
   ],
   "source": [
    "X, Y, R, num_features, num_products = get_data()"
   ]
  },
  {
   "cell_type": "code",
   "execution_count": 3,
   "metadata": {},
   "outputs": [
    {
     "name": "stdout",
     "output_type": "stream",
     "text": [
      "[[ 2.  0. -2.  0.]\n",
      " [ 0.  0.  0.  0.]\n",
      " [ 0.  0.  0.  0.]\n",
      " [-2.  1.  1.  0.]\n",
      " [ 0.  0.  0.  0.]\n",
      " [ 0.  0.  0.  0.]\n",
      " [ 0.  0.  0.  0.]]\n",
      "[[3. ]\n",
      " [5. ]\n",
      " [5. ]\n",
      " [4. ]\n",
      " [4. ]\n",
      " [3.5]\n",
      " [3.5]]\n"
     ]
    }
   ],
   "source": [
    "my_ratings = np.zeros(num_products)\n",
    "\n",
    "my_ratings[0] = 5 # Bosch, Burgija\n",
    "my_ratings[3] = 2 # Makita, Secica\n",
    "\n",
    "# Add new user ratings to Y \n",
    "Y = np.c_[my_ratings, Y]\n",
    "\n",
    "# Add new user indicator matrix to R\n",
    "R = np.c_[(my_ratings != 0).astype(int), R]\n",
    "\n",
    "# Normalize the Dataset\n",
    "Ynorm, Ymean = normalize_ratings(Y, R)\n",
    "print(Ynorm)\n",
    "print(Ymean)"
   ]
  },
  {
   "cell_type": "code",
   "execution_count": 4,
   "metadata": {},
   "outputs": [
    {
     "name": "stdout",
     "output_type": "stream",
     "text": [
      "(7, 1)\n"
     ]
    }
   ],
   "source": [
    "print(Ymean.shape)"
   ]
  },
  {
   "cell_type": "code",
   "execution_count": 5,
   "metadata": {},
   "outputs": [],
   "source": [
    "num_users = Y.shape[1] # FT: It's mandatory because we added one more user to the matrix\n",
    "\n",
    "# Set Initial Parameters (W, X), use tf.Variable to track these variables\n",
    "tf.random.set_seed(1234) # for consistent results\n",
    "W = tf.Variable(tf.random.normal((num_users,  num_features),dtype=tf.float64),  name='W')\n",
    "X = tf.Variable(tf.random.normal((num_products, num_features),dtype=tf.float64),  name='X')\n",
    "b = tf.Variable(tf.random.normal((1,          num_users),   dtype=tf.float64),  name='b')\n",
    "\n",
    "# Instantiate an optimizer.\n",
    "optimizer = keras.optimizers.Adam(learning_rate=1e-1)"
   ]
  },
  {
   "cell_type": "code",
   "execution_count": 6,
   "metadata": {},
   "outputs": [
    {
     "name": "stdout",
     "output_type": "stream",
     "text": [
      "Training loss at iteration 0: 102.4\n"
     ]
    }
   ],
   "source": [
    "iterations = 10\n",
    "lambda_ = 1\n",
    "\n",
    "for iter in range(iterations):\n",
    "    # Use TensorFlow’s GradientTape\n",
    "    # to record the operations used to compute the cost \n",
    "    with tf.GradientTape() as tape:\n",
    "\n",
    "        # Compute the cost (forward pass included in cost)\n",
    "        cost_value = cofi_cost_func_v(X, W, b, Ynorm, R, lambda_)\n",
    "\n",
    "    # Use the gradient tape to automatically retrieve\n",
    "    # the gradients of the trainable variables with respect to the loss\n",
    "    grads = tape.gradient( cost_value, [X,W,b] )\n",
    "\n",
    "    # Run one step of gradient descent by updating\n",
    "    # the value of the variables to minimize the loss.\n",
    "    optimizer.apply_gradients( zip(grads, [X,W,b]) )\n",
    "\n",
    "    # Log periodically.\n",
    "    if iter % 20 == 0:\n",
    "        print(f\"Training loss at iteration {iter}: {cost_value:0.1f}\")"
   ]
  },
  {
   "cell_type": "code",
   "execution_count": 7,
   "metadata": {},
   "outputs": [
    {
     "name": "stdout",
     "output_type": "stream",
     "text": [
      "[['Bosch GSB 120'], ['Bosch GSH 240'], ['Bosch GSH 360'], ['DeWalt DE 14'], ['DeWalt DE 15'], ['Makita MA 00A'], ['Makita MA 00B']]\n",
      "\n",
      "\n",
      "Original vs Predicted ratings:\n",
      "\n",
      "5.892576987276932\n",
      "5.282840283321487\n",
      "3.3996140434329676\n",
      "2.7532721113116585\n",
      "4.74877957385668\n",
      "4.036539790793527\n",
      "1.919480123082662\n"
     ]
    }
   ],
   "source": [
    "product_names = load_csv_list('../../recommenders/datasets/pa/product_names.csv')\n",
    "print(product_names)\n",
    "\n",
    "# Make a prediction using trained weights and biases\n",
    "p = np.matmul(X.numpy(), np.transpose(W.numpy())) + b.numpy()\n",
    "\n",
    "#restore the mean\n",
    "pm = p + Ymean\n",
    "\n",
    "my_predictions = pm[:,0]\n",
    "\n",
    "# sort predictions\n",
    "ix = tf.argsort(my_predictions, direction='DESCENDING')\n",
    "\n",
    "print('\\n\\nOriginal vs Predicted ratings:\\n')\n",
    "for i in range(len(my_ratings)):\n",
    "    # print(f'{my_predictions[i]:0.2f}')\n",
    "    print(f'{my_predictions[i]}')\n",
    "    # if my_ratings[i] > 0:\n",
    "    #     print(f'Original {my_ratings[i]}, Predicted {my_predictions[i]:0.2f} for {product_names[i]}')"
   ]
  }
 ],
 "metadata": {
  "kernelspec": {
   "display_name": "Python 3",
   "language": "python",
   "name": "python3"
  },
  "language_info": {
   "codemirror_mode": {
    "name": "ipython",
    "version": 3
   },
   "file_extension": ".py",
   "mimetype": "text/x-python",
   "name": "python",
   "nbconvert_exporter": "python",
   "pygments_lexer": "ipython3",
   "version": "3.11.3"
  }
 },
 "nbformat": 4,
 "nbformat_minor": 2
}
