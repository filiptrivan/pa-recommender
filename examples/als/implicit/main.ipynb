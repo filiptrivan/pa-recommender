{
 "cells": [
  {
   "cell_type": "code",
   "execution_count": 1,
   "metadata": {},
   "outputs": [],
   "source": [
    "import logging\n",
    "import warnings\n",
    "warnings.simplefilter(action='ignore', category=FutureWarning)\n",
    "import sys\n",
    "import os\n",
    "sys.path.append(os.path.abspath(\"../../..\"))  # Adds the project root to sys.path\n",
    "os.environ['OPENBLAS_NUM_THREADS'] = '1'\n",
    "import numpy as np \n",
    "import math\n",
    "from scipy.sparse import coo_matrix\n",
    "from scipy.sparse import csr_matrix\n",
    "import implicit\n",
    "from implicit.nearest_neighbours import bm25_weight\n",
    "from sklearn.model_selection import train_test_split\n",
    "\n",
    "# Configure logging to display INFO level messages\n",
    "logging.basicConfig(level=logging.INFO)\n",
    "\n",
    "# Create a logger\n",
    "log = logging.getLogger(\"implicit\")\n",
    "\n",
    "from recommenders.datasets.shared import *"
   ]
  },
  {
   "cell_type": "code",
   "execution_count": 12,
   "metadata": {},
   "outputs": [],
   "source": [
    "save_interaction_values(\"../../../../pa-data/Interactions.xlsx\")"
   ]
  },
  {
   "cell_type": "code",
   "execution_count": 3,
   "metadata": {},
   "outputs": [
    {
     "name": "stdout",
     "output_type": "stream",
     "text": [
      "Y (117, 4) R (117, 4)\n",
      "num_products 117\n",
      "num_users 4\n"
     ]
    }
   ],
   "source": [
    "Y, R, num_products = get_data()\n",
    "sparse_product_user = csr_matrix(Y)\n",
    "sparse_product_user = bm25_weight(sparse_product_user, K1=100, B=0.8)\n",
    "# get the transpose since the most of the functions in implicit expect (user, product) sparse matrices instead of (product, user)\n",
    "sparse_user_product = sparse_product_user.T.tocsr()\n",
    "\n",
    "product_names = load_csv_list('Products.csv')\n",
    "product_names = np.array([row[0] for row in product_names])\n",
    "user_ids = load_csv_list('Users.csv')[0]"
   ]
  },
  {
   "cell_type": "code",
   "execution_count": null,
   "metadata": {},
   "outputs": [
    {
     "data": {
      "application/vnd.jupyter.widget-view+json": {
       "model_id": "af2651066da4482daa0f6442d14d28fa",
       "version_major": 2,
       "version_minor": 0
      },
      "text/plain": [
       "  0%|          | 0/128 [00:00<?, ?it/s]"
      ]
     },
     "metadata": {},
     "output_type": "display_data"
    },
    {
     "name": "stderr",
     "output_type": "stream",
     "text": [
      "INFO:implicit:Final training loss 0.0101\n"
     ]
    }
   ],
   "source": [
    "# https://github.com/benfred/implicit/issues/281\n",
    "model = implicit.als.AlternatingLeastSquares(factors=100, regularization=0.1, alpha=1.0, iterations=128, calculate_training_loss=True)\n",
    "model.fit(sparse_user_product, show_progress=True)"
   ]
  },
  {
   "cell_type": "code",
   "execution_count": null,
   "metadata": {},
   "outputs": [],
   "source": [
    "user_id = (str)(55284)\n",
    "user_index = user_ids.index(user_id)\n",
    "indexes, scores = model.recommend(user_index, sparse_user_product[user_index], N=10, filter_already_liked_items=False)"
   ]
  },
  {
   "cell_type": "code",
   "execution_count": 22,
   "metadata": {},
   "outputs": [
    {
     "data": {
      "text/html": [
       "<div>\n",
       "<style scoped>\n",
       "    .dataframe tbody tr th:only-of-type {\n",
       "        vertical-align: middle;\n",
       "    }\n",
       "\n",
       "    .dataframe tbody tr th {\n",
       "        vertical-align: top;\n",
       "    }\n",
       "\n",
       "    .dataframe thead th {\n",
       "        text-align: right;\n",
       "    }\n",
       "</style>\n",
       "<table border=\"1\" class=\"dataframe\">\n",
       "  <thead>\n",
       "    <tr style=\"text-align: right;\">\n",
       "      <th></th>\n",
       "      <th>product</th>\n",
       "      <th>score</th>\n",
       "      <th>original_score</th>\n",
       "      <th>already_liked</th>\n",
       "    </tr>\n",
       "  </thead>\n",
       "  <tbody>\n",
       "    <tr>\n",
       "      <th>0</th>\n",
       "      <td>Vill 074376</td>\n",
       "      <td>0.950983</td>\n",
       "      <td>0.683233</td>\n",
       "      <td>True</td>\n",
       "    </tr>\n",
       "    <tr>\n",
       "      <th>1</th>\n",
       "      <td>EN 4512042</td>\n",
       "      <td>0.948742</td>\n",
       "      <td>0.442119</td>\n",
       "      <td>True</td>\n",
       "    </tr>\n",
       "    <tr>\n",
       "      <th>2</th>\n",
       "      <td>HT1A770</td>\n",
       "      <td>0.948496</td>\n",
       "      <td>0.425515</td>\n",
       "      <td>True</td>\n",
       "    </tr>\n",
       "    <tr>\n",
       "      <th>3</th>\n",
       "      <td>RUBI 01958</td>\n",
       "      <td>0.948495</td>\n",
       "      <td>0.425515</td>\n",
       "      <td>True</td>\n",
       "    </tr>\n",
       "    <tr>\n",
       "      <th>4</th>\n",
       "      <td>STHT0-05926</td>\n",
       "      <td>0.945273</td>\n",
       "      <td>0.285231</td>\n",
       "      <td>True</td>\n",
       "    </tr>\n",
       "    <tr>\n",
       "      <th>5</th>\n",
       "      <td>SENCO AX10EAAP</td>\n",
       "      <td>0.945272</td>\n",
       "      <td>0.285231</td>\n",
       "      <td>True</td>\n",
       "    </tr>\n",
       "    <tr>\n",
       "      <th>6</th>\n",
       "      <td>MAX TW1061</td>\n",
       "      <td>0.945272</td>\n",
       "      <td>0.285231</td>\n",
       "      <td>True</td>\n",
       "    </tr>\n",
       "    <tr>\n",
       "      <th>7</th>\n",
       "      <td>71 02 200</td>\n",
       "      <td>0.943119</td>\n",
       "      <td>0.233527</td>\n",
       "      <td>True</td>\n",
       "    </tr>\n",
       "    <tr>\n",
       "      <th>8</th>\n",
       "      <td>6-PHT150</td>\n",
       "      <td>0.943118</td>\n",
       "      <td>0.233527</td>\n",
       "      <td>True</td>\n",
       "    </tr>\n",
       "    <tr>\n",
       "      <th>9</th>\n",
       "      <td>WBS 1214526</td>\n",
       "      <td>0.941874</td>\n",
       "      <td>0.211304</td>\n",
       "      <td>True</td>\n",
       "    </tr>\n",
       "  </tbody>\n",
       "</table>\n",
       "</div>"
      ],
      "text/plain": [
       "          product     score  original_score  already_liked\n",
       "0     Vill 074376  0.950983        0.683233           True\n",
       "1      EN 4512042  0.948742        0.442119           True\n",
       "2         HT1A770  0.948496        0.425515           True\n",
       "3      RUBI 01958  0.948495        0.425515           True\n",
       "4     STHT0-05926  0.945273        0.285231           True\n",
       "5  SENCO AX10EAAP  0.945272        0.285231           True\n",
       "6      MAX TW1061  0.945272        0.285231           True\n",
       "7       71 02 200  0.943119        0.233527           True\n",
       "8        6-PHT150  0.943118        0.233527           True\n",
       "9     WBS 1214526  0.941874        0.211304           True"
      ]
     },
     "execution_count": 22,
     "metadata": {},
     "output_type": "execute_result"
    }
   ],
   "source": [
    "import numpy as np\n",
    "import pandas as pd\n",
    "\n",
    "original_scores = Y[:, user_index]\n",
    "\n",
    "pd.DataFrame({\n",
    "    \"product\": product_names[indexes], \n",
    "    \"score\": scores, \n",
    "    \"original_score\": original_scores[indexes],\n",
    "    \"already_liked\": np.in1d(indexes, sparse_user_product[user_index].indices)\n",
    "})"
   ]
  },
  {
   "cell_type": "code",
   "execution_count": 23,
   "metadata": {},
   "outputs": [
    {
     "data": {
      "text/html": [
       "<div>\n",
       "<style scoped>\n",
       "    .dataframe tbody tr th:only-of-type {\n",
       "        vertical-align: middle;\n",
       "    }\n",
       "\n",
       "    .dataframe tbody tr th {\n",
       "        vertical-align: top;\n",
       "    }\n",
       "\n",
       "    .dataframe thead th {\n",
       "        text-align: right;\n",
       "    }\n",
       "</style>\n",
       "<table border=\"1\" class=\"dataframe\">\n",
       "  <thead>\n",
       "    <tr style=\"text-align: right;\">\n",
       "      <th></th>\n",
       "      <th>product</th>\n",
       "      <th>score</th>\n",
       "    </tr>\n",
       "  </thead>\n",
       "  <tbody>\n",
       "    <tr>\n",
       "      <th>0</th>\n",
       "      <td>VILL 055320</td>\n",
       "      <td>1.000000</td>\n",
       "    </tr>\n",
       "    <tr>\n",
       "      <th>1</th>\n",
       "      <td>FMST82961-1</td>\n",
       "      <td>0.999994</td>\n",
       "    </tr>\n",
       "    <tr>\n",
       "      <th>2</th>\n",
       "      <td>FME1250K</td>\n",
       "      <td>0.999994</td>\n",
       "    </tr>\n",
       "    <tr>\n",
       "      <th>3</th>\n",
       "      <td>WBS 1214526</td>\n",
       "      <td>0.999994</td>\n",
       "    </tr>\n",
       "    <tr>\n",
       "      <th>4</th>\n",
       "      <td>EN 4511502</td>\n",
       "      <td>0.999994</td>\n",
       "    </tr>\n",
       "    <tr>\n",
       "      <th>5</th>\n",
       "      <td>UN120/1MS 6-22/17</td>\n",
       "      <td>0.999994</td>\n",
       "    </tr>\n",
       "    <tr>\n",
       "      <th>6</th>\n",
       "      <td>SENCO AX10EAAP</td>\n",
       "      <td>0.999994</td>\n",
       "    </tr>\n",
       "    <tr>\n",
       "      <th>7</th>\n",
       "      <td>F 561512</td>\n",
       "      <td>0.999994</td>\n",
       "    </tr>\n",
       "    <tr>\n",
       "      <th>8</th>\n",
       "      <td>3E 1130864</td>\n",
       "      <td>0.999993</td>\n",
       "    </tr>\n",
       "    <tr>\n",
       "      <th>9</th>\n",
       "      <td>STHT0-05926</td>\n",
       "      <td>0.999993</td>\n",
       "    </tr>\n",
       "  </tbody>\n",
       "</table>\n",
       "</div>"
      ],
      "text/plain": [
       "             product     score\n",
       "0        VILL 055320  1.000000\n",
       "1        FMST82961-1  0.999994\n",
       "2           FME1250K  0.999994\n",
       "3        WBS 1214526  0.999994\n",
       "4         EN 4511502  0.999994\n",
       "5  UN120/1MS 6-22/17  0.999994\n",
       "6     SENCO AX10EAAP  0.999994\n",
       "7           F 561512  0.999994\n",
       "8         3E 1130864  0.999993\n",
       "9        STHT0-05926  0.999993"
      ]
     },
     "execution_count": 23,
     "metadata": {},
     "output_type": "execute_result"
    }
   ],
   "source": [
    "indexes, scores = model.similar_items(100)\n",
    "pd.DataFrame({\"product\": product_names[indexes], \"score\": scores})"
   ]
  }
 ],
 "metadata": {
  "kernelspec": {
   "display_name": "Python 3",
   "language": "python",
   "name": "python3"
  },
  "language_info": {
   "codemirror_mode": {
    "name": "ipython",
    "version": 3
   },
   "file_extension": ".py",
   "mimetype": "text/x-python",
   "name": "python",
   "nbconvert_exporter": "python",
   "pygments_lexer": "ipython3",
   "version": "3.11.3"
  }
 },
 "nbformat": 4,
 "nbformat_minor": 2
}
