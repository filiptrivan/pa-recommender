{
 "cells": [
  {
   "cell_type": "code",
   "execution_count": 8,
   "metadata": {},
   "outputs": [
    {
     "name": "stdout",
     "output_type": "stream",
     "text": [
      "aaa\n"
     ]
    }
   ],
   "source": [
    "import sys\n",
    "import os\n",
    "sys.path.append(os.path.abspath(\"../../..\")) \n",
    "from utils.classes.StringBuilder import StringBuilder\n",
    "\n",
    "\n",
    "sb = StringBuilder()\n",
    "sb.append('aaa')\n",
    "print(sb.__str__())"
   ]
  },
  {
   "cell_type": "code",
   "execution_count": null,
   "metadata": {},
   "outputs": [],
   "source": [
    "import logging\n",
    "import warnings\n",
    "warnings.simplefilter(action='ignore', category=FutureWarning)\n",
    "import sys\n",
    "import os\n",
    "sys.path.append(os.path.abspath(\"../../..\"))  # Adds the project root to sys.path\n",
    "os.environ['OPENBLAS_NUM_THREADS'] = '1'\n",
    "import numpy as np \n",
    "import math\n",
    "from scipy.sparse import coo_matrix\n",
    "from scipy.sparse import csr_matrix\n",
    "import implicit\n",
    "from implicit.nearest_neighbours import bm25_weight\n",
    "from sklearn.model_selection import train_test_split\n",
    "import pprint\n",
    "\n",
    "logging.basicConfig(level=logging.INFO)\n",
    "log = logging.getLogger(\"implicit\")\n",
    "\n",
    "from recommenders.utils.shared import *"
   ]
  },
  {
   "cell_type": "code",
   "execution_count": 2,
   "metadata": {},
   "outputs": [],
   "source": [
    "save_interaction_values(\"../../../../pa-data/Interactions.xlsx\")"
   ]
  },
  {
   "cell_type": "code",
   "execution_count": null,
   "metadata": {},
   "outputs": [],
   "source": [
    "SKU = 0\n",
    "STOCK = 1\n",
    "STATUS = 2\n",
    "VISIBILITY = 3\n",
    "ACTIVE = 4"
   ]
  },
  {
   "cell_type": "code",
   "execution_count": 3,
   "metadata": {},
   "outputs": [
    {
     "name": "stdout",
     "output_type": "stream",
     "text": [
      "Y (117, 4) R (117, 4)\n",
      "num_products 117\n",
      "num_users 4\n",
      "[0, 1, 4, 5, 6, 7, 8, 10, 12, 13, 14, 15, 16, 17, 18, 19, 20, 21, 22, 23, 24, 25, 26, 27, 28, 29, 30, 31, 32, 33, 34, 35, 36, 37, 38, 39, 40, 41, 42, 43, 44, 45, 46, 47, 51, 52, 53, 54, 56, 58, 59, 60, 62, 66, 67, 68, 69, 70, 71, 72, 73, 74, 75, 76, 77, 78, 79, 80, 81, 82, 88, 89, 90, 91, 92, 93, 94, 95, 96, 97, 98, 99, 100, 103, 104, 106, 108, 109, 111, 112, 113, 114, 115, 116]\n"
     ]
    }
   ],
   "source": [
    "Y, R, num_products = get_data()\n",
    "sparse_product_user = csr_matrix(Y)\n",
    "sparse_product_user = bm25_weight(sparse_product_user, K1=100, B=0.8)\n",
    "# get the transpose since the most of the functions in implicit expect (user, product) sparse matrices instead of (product, user)\n",
    "sparse_user_product = sparse_product_user.T.tocsr()\n",
    "\n",
    "products = load_csv_list('Products.csv')\n",
    "product_names = np.array([row[0] for row in products])\n",
    "product_indexes_to_filter = [\n",
    "    idx for idx, x in enumerate(products)\n",
    "    if x[STOCK] == '0' or x[STATUS] != 'Published' or x[VISIBILITY] != 'Public' or x[ACTIVE] != '1'\n",
    "]\n",
    "print(product_indexes_to_filter)\n",
    "user_ids = load_csv_list('Users.csv')[0]"
   ]
  },
  {
   "cell_type": "code",
   "execution_count": 4,
   "metadata": {},
   "outputs": [
    {
     "data": {
      "application/vnd.jupyter.widget-view+json": {
       "model_id": "0316be649413432693dadd9375d77a33",
       "version_major": 2,
       "version_minor": 0
      },
      "text/plain": [
       "  0%|          | 0/128 [00:00<?, ?it/s]"
      ]
     },
     "metadata": {},
     "output_type": "display_data"
    },
    {
     "name": "stderr",
     "output_type": "stream",
     "text": [
      "INFO:implicit:Final training loss 0.0101\n"
     ]
    }
   ],
   "source": [
    "# https://github.com/benfred/implicit/issues/281\n",
    "model = implicit.als.AlternatingLeastSquares(factors=100, regularization=0.1, alpha=1.0, iterations=128, calculate_training_loss=True)\n",
    "model.fit(sparse_user_product, show_progress=True)"
   ]
  },
  {
   "cell_type": "code",
   "execution_count": null,
   "metadata": {},
   "outputs": [],
   "source": [
    "recommendation_result_dict = get_recommendation_result_dict(model, sparse_user_product, user_ids, product_names)"
   ]
  },
  {
   "cell_type": "code",
   "execution_count": 11,
   "metadata": {},
   "outputs": [
    {
     "name": "stdout",
     "output_type": "stream",
     "text": [
      "['1600Z00038',\n",
      " '2608644374',\n",
      " '2608690127',\n",
      " '2608584100',\n",
      " 'SIG 048L7R',\n",
      " '90 70 220',\n",
      " '97 51 10',\n",
      " 'VILL 060108',\n",
      " 'KWB 49427140',\n",
      " 'HT8G330']\n"
     ]
    }
   ],
   "source": [
    "pprint.pprint(recommendation_result_dict['47608'])"
   ]
  }
 ],
 "metadata": {
  "kernelspec": {
   "display_name": "Python 3",
   "language": "python",
   "name": "python3"
  },
  "language_info": {
   "codemirror_mode": {
    "name": "ipython",
    "version": 3
   },
   "file_extension": ".py",
   "mimetype": "text/x-python",
   "name": "python",
   "nbconvert_exporter": "python",
   "pygments_lexer": "ipython3",
   "version": "3.11.3"
  }
 },
 "nbformat": 4,
 "nbformat_minor": 2
}
