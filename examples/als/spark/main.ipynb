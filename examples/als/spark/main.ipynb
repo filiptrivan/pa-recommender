{
 "cells": [
  {
   "cell_type": "code",
   "execution_count": 1,
   "id": "9976b9ca-5bc3-4e24-ad38-40749a4437fc",
   "metadata": {},
   "outputs": [],
   "source": [
    "import warnings\n",
    "warnings.simplefilter(action='ignore', category=FutureWarning)\n",
    "import sys\n",
    "import os\n",
    "sys.path.append(os.path.abspath(\"../..\"))  # Adds the project root to sys.path\n",
    "import pyspark\n",
    "from pyspark.ml.recommendation import ALS\n",
    "import pyspark.sql.functions as F\n",
    "from pyspark.sql.functions import col\n",
    "from pyspark.sql import SparkSession\n",
    "from pyspark.sql.types import StructType, StructField\n",
    "from pyspark.sql.types import StringType, FloatType, IntegerType, LongType\n",
    "from recommenders.datasets.spark_splitters import spark_random_split\n",
    "from recommenders.utils.timer import Timer\n",
    "import utils"
   ]
  },
  {
   "cell_type": "code",
   "execution_count": 2,
   "id": "f1bb11e7-ea0e-43c6-a419-71254bdb02d9",
   "metadata": {},
   "outputs": [],
   "source": [
    "COL_USER = \"UserID\"\n",
    "COL_ITEM = \"ProductID\"\n",
    "COL_RATING = \"Rating\"\n",
    "DATA_FILE_PATH = \"tools_recommendation_dataset.json\""
   ]
  },
  {
   "cell_type": "code",
   "execution_count": null,
   "id": "d0c16f38-6665-4fff-a76e-f4c6bb260c26",
   "metadata": {},
   "outputs": [
    {
     "name": "stdout",
     "output_type": "stream",
     "text": [
      "Dataset saved.\n",
      "Saved users.csv\n",
      "Saved products.csv\n",
      "Saved userPurchases.csv\n",
      "Saved userReviews.csv\n"
     ]
    }
   ],
   "source": [
    "#utils.generate_fake_data()\n",
    "#utils.generate_csv_arrays_from_json(DATA_FILE_PATH)"
   ]
  },
  {
   "cell_type": "code",
   "execution_count": 3,
   "id": "03306430-646b-4326-80bd-cfec4b2b60f5",
   "metadata": {},
   "outputs": [],
   "source": [
    "# the following settings work well for debugging locally on VM - change when running on a cluster\n",
    "# set up a giant single executor with many threads and specify memory cap\n",
    "spark = utils.start_or_get_spark(\"ALS PySpark\", memory=\"16g\")\n",
    "spark.conf.set(\"spark.sql.analyzer.failAmbiguousSelfJoin\", \"false\")"
   ]
  },
  {
   "cell_type": "code",
   "execution_count": 4,
   "id": "79a29fb8-7cda-499f-b9e8-852690d1b7ec",
   "metadata": {},
   "outputs": [],
   "source": [
    "#users_df = spark.read.option(\"multiLine\", \"true\").csv(\"users.csv\", header=True, inferSchema=True)\n",
    "#products_df = spark.read.option(\"multiLine\", \"true\").csv(\"products.csv\", header=True, inferSchema=True)\n",
    "#purchases_df = spark.read.option(\"multiLine\", \"true\").csv(\"userPurchases.csv\", header=True, inferSchema=True)\n",
    "reviews_df = spark.read.option(\"multiLine\", \"true\").csv(\"ratings_Tools_and_Home_Improvement.csv\", header=True, inferSchema=True)"
   ]
  },
  {
   "cell_type": "code",
   "execution_count": 5,
   "id": "ac8e7638",
   "metadata": {},
   "outputs": [
    {
     "data": {
      "text/html": [
       "<div>\n",
       "<style scoped>\n",
       "    .dataframe tbody tr th:only-of-type {\n",
       "        vertical-align: middle;\n",
       "    }\n",
       "\n",
       "    .dataframe tbody tr th {\n",
       "        vertical-align: top;\n",
       "    }\n",
       "\n",
       "    .dataframe thead th {\n",
       "        text-align: right;\n",
       "    }\n",
       "</style>\n",
       "<table border=\"1\" class=\"dataframe\">\n",
       "  <thead>\n",
       "    <tr style=\"text-align: right;\">\n",
       "      <th></th>\n",
       "      <th>UserID</th>\n",
       "      <th>ProductID</th>\n",
       "      <th>Rating</th>\n",
       "      <th>Timestamp</th>\n",
       "    </tr>\n",
       "  </thead>\n",
       "  <tbody>\n",
       "    <tr>\n",
       "      <th>0</th>\n",
       "      <td>1594226</td>\n",
       "      <td>1212835</td>\n",
       "      <td>5.0</td>\n",
       "      <td>1389657600</td>\n",
       "    </tr>\n",
       "    <tr>\n",
       "      <th>1</th>\n",
       "      <td>19039</td>\n",
       "      <td>205062040</td>\n",
       "      <td>5.0</td>\n",
       "      <td>1373846400</td>\n",
       "    </tr>\n",
       "    <tr>\n",
       "      <th>2</th>\n",
       "      <td>9834</td>\n",
       "      <td>205062040</td>\n",
       "      <td>5.0</td>\n",
       "      <td>1382659200</td>\n",
       "    </tr>\n",
       "    <tr>\n",
       "      <th>3</th>\n",
       "      <td>8583</td>\n",
       "      <td>205062040</td>\n",
       "      <td>5.0</td>\n",
       "      <td>1372723200</td>\n",
       "    </tr>\n",
       "    <tr>\n",
       "      <th>4</th>\n",
       "      <td>165</td>\n",
       "      <td>205062040</td>\n",
       "      <td>4.0</td>\n",
       "      <td>1364256000</td>\n",
       "    </tr>\n",
       "    <tr>\n",
       "      <th>...</th>\n",
       "      <td>...</td>\n",
       "      <td>...</td>\n",
       "      <td>...</td>\n",
       "      <td>...</td>\n",
       "    </tr>\n",
       "    <tr>\n",
       "      <th>99994</th>\n",
       "      <td>3348</td>\n",
       "      <td>645</td>\n",
       "      <td>5.0</td>\n",
       "      <td>1199577600</td>\n",
       "    </tr>\n",
       "    <tr>\n",
       "      <th>99995</th>\n",
       "      <td>1699815</td>\n",
       "      <td>645</td>\n",
       "      <td>2.0</td>\n",
       "      <td>1277769600</td>\n",
       "    </tr>\n",
       "    <tr>\n",
       "      <th>99996</th>\n",
       "      <td>22</td>\n",
       "      <td>645</td>\n",
       "      <td>4.0</td>\n",
       "      <td>1244160000</td>\n",
       "    </tr>\n",
       "    <tr>\n",
       "      <th>99997</th>\n",
       "      <td>1904</td>\n",
       "      <td>645</td>\n",
       "      <td>5.0</td>\n",
       "      <td>1325635200</td>\n",
       "    </tr>\n",
       "    <tr>\n",
       "      <th>99998</th>\n",
       "      <td>3729</td>\n",
       "      <td>645</td>\n",
       "      <td>5.0</td>\n",
       "      <td>1199577600</td>\n",
       "    </tr>\n",
       "  </tbody>\n",
       "</table>\n",
       "<p>99999 rows × 4 columns</p>\n",
       "</div>"
      ],
      "text/plain": [
       "        UserID  ProductID  Rating   Timestamp\n",
       "0      1594226    1212835     5.0  1389657600\n",
       "1        19039  205062040     5.0  1373846400\n",
       "2         9834  205062040     5.0  1382659200\n",
       "3         8583  205062040     5.0  1372723200\n",
       "4          165  205062040     4.0  1364256000\n",
       "...        ...        ...     ...         ...\n",
       "99994     3348        645     5.0  1199577600\n",
       "99995  1699815        645     2.0  1277769600\n",
       "99996       22        645     4.0  1244160000\n",
       "99997     1904        645     5.0  1325635200\n",
       "99998     3729        645     5.0  1199577600\n",
       "\n",
       "[99999 rows x 4 columns]"
      ]
     },
     "execution_count": 5,
     "metadata": {},
     "output_type": "execute_result"
    }
   ],
   "source": [
    "reviews_df = reviews_df.na.fill({\n",
    "    \"UserID\": 0,\n",
    "    \"ProductID\": 0,\n",
    "    \"Rating\": 0.0,\n",
    "    \"Timestamp\": 0\n",
    "})\n",
    "reviews_df = reviews_df.withColumn(\"UserID\", col(\"UserID\").cast(\"integer\")).withColumn(\"ProductID\", col(\"ProductID\").cast(\"integer\"))\n",
    "reviews_df.toPandas()"
   ]
  },
  {
   "cell_type": "code",
   "execution_count": 6,
   "id": "054ab569-f5e4-4693-84d9-1f1a0353e33f",
   "metadata": {},
   "outputs": [
    {
     "name": "stdout",
     "output_type": "stream",
     "text": [
      "N train 75018\n",
      "N test 24981\n"
     ]
    }
   ],
   "source": [
    "train, test = spark_random_split(reviews_df, ratio=0.75, seed=123)\n",
    "print (\"N train\", train.cache().count())\n",
    "print (\"N test\", test.cache().count())"
   ]
  },
  {
   "cell_type": "code",
   "execution_count": 7,
   "id": "38a0b365",
   "metadata": {},
   "outputs": [],
   "source": [
    "header = {\n",
    "    \"userCol\": COL_USER,\n",
    "    \"itemCol\": COL_ITEM,\n",
    "    \"ratingCol\": COL_RATING,\n",
    "}\n",
    "\n",
    "als = ALS(\n",
    "    rank=10,\n",
    "    maxIter=15,\n",
    "    implicitPrefs=False,\n",
    "    regParam=0.05,\n",
    "    coldStartStrategy='drop',\n",
    "    nonnegative=False,\n",
    "    seed=42,\n",
    "    **header\n",
    ")"
   ]
  },
  {
   "cell_type": "code",
   "execution_count": 8,
   "id": "13027df4",
   "metadata": {},
   "outputs": [
    {
     "name": "stdout",
     "output_type": "stream",
     "text": [
      "Took 5.120330699952319 seconds for training.\n"
     ]
    }
   ],
   "source": [
    "with Timer() as train_time:\n",
    "    model = als.fit(train)\n",
    "\n",
    "print(\"Took {} seconds for training.\".format(train_time.interval))"
   ]
  },
  {
   "cell_type": "code",
   "execution_count": 9,
   "id": "3b99047c",
   "metadata": {},
   "outputs": [
    {
     "name": "stdout",
     "output_type": "stream",
     "text": [
      "Took 25.14241459988989 seconds for prediction.\n"
     ]
    }
   ],
   "source": [
    "with Timer() as test_time:\n",
    "\n",
    "    # Get the cross join of all user-item pairs and score them.\n",
    "    users = train.select(COL_USER).distinct()\n",
    "    items = train.select(COL_ITEM).distinct()\n",
    "    user_item = users.crossJoin(items)\n",
    "    dfs_pred = model.transform(user_item)\n",
    "\n",
    "    # Remove seen items.\n",
    "    dfs_pred_exclude_train = dfs_pred.alias(\"pred\").join(\n",
    "        train.alias(\"train\"),\n",
    "        (dfs_pred[COL_USER] == train[COL_USER]) & (dfs_pred[COL_ITEM] == train[COL_ITEM]),\n",
    "        how='outer'\n",
    "    )\n",
    "\n",
    "    top_all = dfs_pred_exclude_train.filter(dfs_pred_exclude_train[f\"train.{COL_RATING}\"].isNull()) \\\n",
    "        .select('pred.' + COL_USER, 'pred.' + COL_ITEM, 'pred.' + \"prediction\")\n",
    "\n",
    "    # In Spark, transformations are lazy evaluation\n",
    "    # Use an action to force execute and measure the test time \n",
    "    top_all.cache().count()\n",
    "\n",
    "print(\"Took {} seconds for prediction.\".format(test_time.interval))"
   ]
  },
  {
   "cell_type": "code",
   "execution_count": 10,
   "id": "27be4d4a",
   "metadata": {},
   "outputs": [
    {
     "name": "stdout",
     "output_type": "stream",
     "text": [
      "+-----------+-----------+----------+\n",
      "|     UserID|  ProductID|prediction|\n",
      "+-----------+-----------+----------+\n",
      "|-2084477354|          0| 3.9647949|\n",
      "|-2084477354|      22444| 2.3318439|\n",
      "|-2084477354|      22454| 2.2646725|\n",
      "|-2084477354| 1398501980|0.46135074|\n",
      "|-2002542219|        496| 1.0963039|\n",
      "|-2002542219|        569| 0.8405908|\n",
      "|-2002542219|       2262| 1.1932302|\n",
      "|-2002542219|       4837| 1.7314619|\n",
      "|-2002542219| 1059552957|  0.823743|\n",
      "|-2002542219| 1800039584|0.29650843|\n",
      "|-1957642280|        410| 3.6291337|\n",
      "|-1957642280|       2542| 3.2722466|\n",
      "|-1957642280|       5283| 3.8566172|\n",
      "|-1957642280| 1223027090| 3.4972682|\n",
      "|-1913026792|       2205| 3.8257842|\n",
      "|-1913026792|       4109| 3.9599617|\n",
      "|-1913026792|      22551| 1.2333772|\n",
      "|-1801416171|-1366914274| 0.5103797|\n",
      "|-1801416171|       2258|  3.665957|\n",
      "|-1801416171|       6405| 0.3616918|\n",
      "+-----------+-----------+----------+\n",
      "only showing top 20 rows\n",
      "\n"
     ]
    }
   ],
   "source": [
    "top_all.show()"
   ]
  },
  {
   "cell_type": "code",
   "execution_count": null,
   "id": "96df667f",
   "metadata": {},
   "outputs": [],
   "source": []
  }
 ],
 "metadata": {
  "kernelspec": {
   "display_name": "Python 3",
   "language": "python",
   "name": "python3"
  },
  "language_info": {
   "codemirror_mode": {
    "name": "ipython",
    "version": 3
   },
   "file_extension": ".py",
   "mimetype": "text/x-python",
   "name": "python",
   "nbconvert_exporter": "python",
   "pygments_lexer": "ipython3",
   "version": "3.11.3"
  }
 },
 "nbformat": 4,
 "nbformat_minor": 5
}
